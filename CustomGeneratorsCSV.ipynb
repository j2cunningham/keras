{
 "cells": [
  {
   "cell_type": "code",
   "execution_count": 52,
   "id": "06b1f1ae",
   "metadata": {},
   "outputs": [],
   "source": [
    "!pip install keras tensorflow -q"
   ]
  },
  {
   "cell_type": "code",
   "execution_count": 53,
   "id": "67319a19",
   "metadata": {},
   "outputs": [],
   "source": [
    "!pip install pipreqsnb  nbconvert -q"
   ]
  },
  {
   "cell_type": "code",
   "execution_count": 54,
   "id": "c6364c46",
   "metadata": {},
   "outputs": [],
   "source": [
    "from keras.models import Sequential\n",
    "from keras.layers import Dense\n",
    "import os"
   ]
  },
  {
   "cell_type": "code",
   "execution_count": 66,
   "id": "a46b4620",
   "metadata": {},
   "outputs": [],
   "source": [
    "directory = \".\"\n",
    "\n",
    "file_paths = [os.path.join(directory, file) for file in os.listdir(directory)]"
   ]
  },
  {
   "cell_type": "code",
   "execution_count": 67,
   "id": "32934f1e",
   "metadata": {},
   "outputs": [],
   "source": [
    "import pandas as pd\n",
    "from sklearn.model_selection import train_test_split\n",
    "from tensorflow import keras\n",
    "from sklearn.preprocessing import StandardScaler\n",
    "\n",
    "class CustomGenerator(keras.utils.Sequence):\n",
    "    def __init__(self, file_paths):\n",
    "        self.file_paths = file_paths\n",
    "        self.on_epoch_end()\n",
    "        \n",
    "    def __len__(self):\n",
    "        return len(self.file_paths)\n",
    "    \n",
    "    def __getitem__(self, index):\n",
    "        file_path = self.file_paths[index]\n",
    "        df = read.csv(file_path)\n",
    "        \n",
    "        #assumes target in last column\n",
    "        X = df.iloc[:, :-1].values\n",
    "        y = df.iloc[:, -1].values\n",
    "        \n",
    "        #do some transformation.\n",
    "        scaler = StandardScaler()\n",
    "        X = scaler.fit_transform(X)\n",
    "        \n",
    "        return X, y\n",
    "        \n",
    "        \n",
    "        "
   ]
  },
  {
   "cell_type": "code",
   "execution_count": 68,
   "id": "379fd00c",
   "metadata": {},
   "outputs": [],
   "source": [
    "epochs = 2\n",
    "\n",
    "generator = CustomGenerator(file_paths)"
   ]
  },
  {
   "cell_type": "code",
   "execution_count": null,
   "id": "e0483fb8",
   "metadata": {},
   "outputs": [],
   "source": [
    "model = Sequential()\n",
    "model.add(Dense(1, input_shape=(13,)))\n",
    "model.compile(optimizer='adam',loss='mse')\n",
    "model.fit(generator, epochs=epochs)"
   ]
  },
  {
   "cell_type": "markdown",
   "id": "3f814aa4",
   "metadata": {},
   "source": [
    "Also possible to track loss changes over epochs\n",
    "\n",
    "history = model.fit(generator, epochs=epochs)"
   ]
  },
  {
   "cell_type": "markdown",
   "id": "f5a28ce2",
   "metadata": {},
   "source": [
    "Could save model:\n",
    "    \n",
    "model.save('trained_model.h5')"
   ]
  },
  {
   "cell_type": "markdown",
   "id": "43bf2a9e",
   "metadata": {},
   "source": [
    "To reuse:\n",
    "    \n",
    "from keras.models import load_model\n",
    "model = load_model('trained_model.h5')\n",
    "predictions = model.predict(X_new)"
   ]
  },
  {
   "cell_type": "code",
   "execution_count": 69,
   "id": "05e4c59c",
   "metadata": {},
   "outputs": [
    {
     "name": "stdout",
     "output_type": "stream",
     "text": [
      "Exception occurred while working on file CustomGeneratorsCSV.ipynb, cell 8/12\r\n",
      "Traceback (most recent call last):\r\n",
      "  File \"/home/jeremy/anaconda3/bin/pipreqsnb\", line 8, in <module>\r\n",
      "    sys.exit(main())\r\n",
      "  File \"/home/jeremy/anaconda3/lib/python3.8/site-packages/pipreqsnb/pipreqsnb.py\", line 130, in main\r\n",
      "    raise e\r\n",
      "  File \"/home/jeremy/anaconda3/lib/python3.8/site-packages/pipreqsnb/pipreqsnb.py\", line 126, in main\r\n",
      "    imports += get_import_string_from_source(source)\r\n",
      "  File \"/home/jeremy/anaconda3/lib/python3.8/site-packages/pipreqsnb/pipreqsnb.py\", line 26, in get_import_string_from_source\r\n",
      "    tree = ast.parse(source)\r\n",
      "  File \"/home/jeremy/anaconda3/lib/python3.8/ast.py\", line 47, in parse\r\n",
      "    return compile(source, filename, mode, flags,\r\n",
      "  File \"<unknown>\", line 1\r\n",
      "    Also possible to track loss changes over epochs\r\n",
      "         ^\r\n",
      "SyntaxError: invalid syntax\r\n"
     ]
    }
   ],
   "source": [
    "!pipreqsnb CustomGeneratorsCSV.ipynb --force"
   ]
  },
  {
   "cell_type": "code",
   "execution_count": null,
   "id": "a92584f5",
   "metadata": {},
   "outputs": [],
   "source": []
  }
 ],
 "metadata": {
  "kernelspec": {
   "display_name": "Python 3 (ipykernel)",
   "language": "python",
   "name": "python3"
  },
  "language_info": {
   "codemirror_mode": {
    "name": "ipython",
    "version": 3
   },
   "file_extension": ".py",
   "mimetype": "text/x-python",
   "name": "python",
   "nbconvert_exporter": "python",
   "pygments_lexer": "ipython3",
   "version": "3.8.8"
  }
 },
 "nbformat": 4,
 "nbformat_minor": 5
}
