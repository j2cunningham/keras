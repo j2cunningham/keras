{
 "cells": [
  {
   "cell_type": "code",
   "execution_count": 52,
   "id": "fde0518c",
   "metadata": {},
   "outputs": [],
   "source": [
    "!pip install keras tensorflow -q"
   ]
  },
  {
   "cell_type": "code",
   "execution_count": 53,
   "id": "19e2da55",
   "metadata": {},
   "outputs": [],
   "source": [
    "!pip install pipreqsnb  nbconvert -q"
   ]
  },
  {
   "cell_type": "code",
   "execution_count": 54,
   "id": "189e949f",
   "metadata": {},
   "outputs": [],
   "source": [
    "from keras.models import Sequential\n",
    "from keras.layers import Dense\n",
    "import os"
   ]
  },
  {
   "cell_type": "code",
   "execution_count": 66,
   "id": "392d41a2",
   "metadata": {},
   "outputs": [],
   "source": [
    "directory = \".\"\n",
    "\n",
    "file_paths = [os.path.join(directory, file) for file in os.listdir(directory)]"
   ]
  },
  {
   "cell_type": "code",
   "execution_count": 67,
   "id": "58516fe2",
   "metadata": {},
   "outputs": [],
   "source": [
    "import pandas as pd\n",
    "from sklearn.model_selection import train_test_split\n",
    "from tensorflow import keras\n",
    "from sklearn.preprocessing import StandardScaler\n",
    "\n",
    "class CustomGenerator(keras.utils.Sequence):\n",
    "    def __init__(self, file_paths):\n",
    "        self.file_paths = file_paths\n",
    "        self.on_epoch_end()\n",
    "        \n",
    "    def __len__(self):\n",
    "        return len(self.file_paths)\n",
    "    \n",
    "    def __getitem__(self, index):\n",
    "        file_path = self.file_paths[index]\n",
    "        df = read.csv(file_path)\n",
    "        \n",
    "        #assumes target in last column\n",
    "        X = df.iloc[:, :-1].values\n",
    "        y = df.iloc[:, -1].values\n",
    "        \n",
    "        #do some transformation.\n",
    "        scaler = StandardScaler()\n",
    "        X = scaler.fit_transform(X)\n",
    "        \n",
    "        return X, y\n",
    "        \n",
    "        \n",
    "    def on_epoch_end(self):\n",
    "        pass"
   ]
  },
  {
   "cell_type": "code",
   "execution_count": 68,
   "id": "c9ed0353",
   "metadata": {},
   "outputs": [],
   "source": [
    "epochs = 2\n",
    "\n",
    "generator = CustomGenerator(file_paths)"
   ]
  },
  {
   "cell_type": "code",
   "execution_count": null,
   "id": "f7588727",
   "metadata": {},
   "outputs": [],
   "source": [
    "model = Sequential()\n",
    "model.add(Dense(1, input_shape=(13,)))\n",
    "model.compile(optimizer='adam',loss='mse')\n",
    "model.fit(generator, epochs=epochs)"
   ]
  },
  {
   "cell_type": "code",
   "execution_count": 70,
   "id": "8890bb9d",
   "metadata": {},
   "outputs": [],
   "source": [
    "# # Also possible to track loss changes over epochs\n",
    "\n",
    "# history = model.fit(generator, epochs=epochs)\n",
    "\n",
    "# # Could save model:\n",
    "    \n",
    "# model.save('trained_model.h5')\n",
    "\n",
    "\n",
    "# # To reuse:\n",
    "    \n",
    "# from keras.models import load_model\n",
    "# model = load_model('trained_model.h5')\n",
    "# predictions = model.predict(X_new)"
   ]
  },
  {
   "cell_type": "code",
   "execution_count": 71,
   "id": "249f5aae",
   "metadata": {},
   "outputs": [
    {
     "name": "stdout",
     "output_type": "stream",
     "text": [
      "pipreqs  --force --savepath requirements.txt /home/jeremy/gitlab/keras/__temp_pipreqsnb_folder\n",
      "INFO: Successfully saved requirements file in requirements.txt\n"
     ]
    }
   ],
   "source": [
    "!pipreqsnb CustomGeneratorsCSV.ipynb --force"
   ]
  },
  {
   "cell_type": "code",
   "execution_count": null,
   "id": "4a0611d4",
   "metadata": {},
   "outputs": [],
   "source": []
  }
 ],
 "metadata": {
  "kernelspec": {
   "display_name": "Python 3 (ipykernel)",
   "language": "python",
   "name": "python3"
  },
  "language_info": {
   "codemirror_mode": {
    "name": "ipython",
    "version": 3
   },
   "file_extension": ".py",
   "mimetype": "text/x-python",
   "name": "python",
   "nbconvert_exporter": "python",
   "pygments_lexer": "ipython3",
   "version": "3.8.8"
  }
 },
 "nbformat": 4,
 "nbformat_minor": 5
}
